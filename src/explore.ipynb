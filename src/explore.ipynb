{
    "cells": [
        {
            "cell_type": "markdown",
            "metadata": {},
            "source": [
                "# Explore here"
            ]
        },
        {
            "cell_type": "code",
            "execution_count": 80,
            "metadata": {},
            "outputs": [],
            "source": [
                "# Your code here\n",
                "import pandas as pd\n",
                "import numpy as np\n",
                "import matplotlib.pyplot as plt\n",
                "from sklearn.feature_extraction.text import CountVectorizer\n",
                "from sklearn.model_selection import train_test_split\n",
                "from sklearn.naive_bayes import MultinomialNB, GaussianNB, BernoulliNB\n",
                "from sklearn.metrics import classification_report, accuracy_score\n",
                "from sklearn.ensemble import RandomForestClassifier\n",
                "from sklearn.metrics import *\n",
                "from sklearn.model_selection import GridSearchCV\n",
                "from xgboost import XGBClassifier"
            ]
        },
        {
            "cell_type": "code",
            "execution_count": 81,
            "metadata": {},
            "outputs": [
                {
                    "data": {
                        "text/html": [
                            "<div>\n",
                            "<style scoped>\n",
                            "    .dataframe tbody tr th:only-of-type {\n",
                            "        vertical-align: middle;\n",
                            "    }\n",
                            "\n",
                            "    .dataframe tbody tr th {\n",
                            "        vertical-align: top;\n",
                            "    }\n",
                            "\n",
                            "    .dataframe thead th {\n",
                            "        text-align: right;\n",
                            "    }\n",
                            "</style>\n",
                            "<table border=\"1\" class=\"dataframe\">\n",
                            "  <thead>\n",
                            "    <tr style=\"text-align: right;\">\n",
                            "      <th></th>\n",
                            "      <th>package_name</th>\n",
                            "      <th>review</th>\n",
                            "      <th>polarity</th>\n",
                            "    </tr>\n",
                            "  </thead>\n",
                            "  <tbody>\n",
                            "    <tr>\n",
                            "      <th>0</th>\n",
                            "      <td>com.facebook.katana</td>\n",
                            "      <td>privacy at least put some option appear offli...</td>\n",
                            "      <td>0</td>\n",
                            "    </tr>\n",
                            "    <tr>\n",
                            "      <th>1</th>\n",
                            "      <td>com.facebook.katana</td>\n",
                            "      <td>messenger issues ever since the last update, ...</td>\n",
                            "      <td>0</td>\n",
                            "    </tr>\n",
                            "    <tr>\n",
                            "      <th>2</th>\n",
                            "      <td>com.facebook.katana</td>\n",
                            "      <td>profile any time my wife or anybody has more ...</td>\n",
                            "      <td>0</td>\n",
                            "    </tr>\n",
                            "    <tr>\n",
                            "      <th>3</th>\n",
                            "      <td>com.facebook.katana</td>\n",
                            "      <td>the new features suck for those of us who don...</td>\n",
                            "      <td>0</td>\n",
                            "    </tr>\n",
                            "    <tr>\n",
                            "      <th>4</th>\n",
                            "      <td>com.facebook.katana</td>\n",
                            "      <td>forced reload on uploading pic on replying co...</td>\n",
                            "      <td>0</td>\n",
                            "    </tr>\n",
                            "    <tr>\n",
                            "      <th>...</th>\n",
                            "      <td>...</td>\n",
                            "      <td>...</td>\n",
                            "      <td>...</td>\n",
                            "    </tr>\n",
                            "    <tr>\n",
                            "      <th>886</th>\n",
                            "      <td>com.rovio.angrybirds</td>\n",
                            "      <td>loved it i loooooooooooooovvved it because it...</td>\n",
                            "      <td>1</td>\n",
                            "    </tr>\n",
                            "    <tr>\n",
                            "      <th>887</th>\n",
                            "      <td>com.rovio.angrybirds</td>\n",
                            "      <td>all time legendary game the birthday party le...</td>\n",
                            "      <td>1</td>\n",
                            "    </tr>\n",
                            "    <tr>\n",
                            "      <th>888</th>\n",
                            "      <td>com.rovio.angrybirds</td>\n",
                            "      <td>ads are way to heavy listen to the bad review...</td>\n",
                            "      <td>0</td>\n",
                            "    </tr>\n",
                            "    <tr>\n",
                            "      <th>889</th>\n",
                            "      <td>com.rovio.angrybirds</td>\n",
                            "      <td>fun works perfectly well. ads aren't as annoy...</td>\n",
                            "      <td>1</td>\n",
                            "    </tr>\n",
                            "    <tr>\n",
                            "      <th>890</th>\n",
                            "      <td>com.rovio.angrybirds</td>\n",
                            "      <td>they're everywhere i see angry birds everywhe...</td>\n",
                            "      <td>1</td>\n",
                            "    </tr>\n",
                            "  </tbody>\n",
                            "</table>\n",
                            "<p>891 rows × 3 columns</p>\n",
                            "</div>"
                        ],
                        "text/plain": [
                            "             package_name                                             review  \\\n",
                            "0     com.facebook.katana   privacy at least put some option appear offli...   \n",
                            "1     com.facebook.katana   messenger issues ever since the last update, ...   \n",
                            "2     com.facebook.katana   profile any time my wife or anybody has more ...   \n",
                            "3     com.facebook.katana   the new features suck for those of us who don...   \n",
                            "4     com.facebook.katana   forced reload on uploading pic on replying co...   \n",
                            "..                    ...                                                ...   \n",
                            "886  com.rovio.angrybirds   loved it i loooooooooooooovvved it because it...   \n",
                            "887  com.rovio.angrybirds   all time legendary game the birthday party le...   \n",
                            "888  com.rovio.angrybirds   ads are way to heavy listen to the bad review...   \n",
                            "889  com.rovio.angrybirds   fun works perfectly well. ads aren't as annoy...   \n",
                            "890  com.rovio.angrybirds   they're everywhere i see angry birds everywhe...   \n",
                            "\n",
                            "     polarity  \n",
                            "0           0  \n",
                            "1           0  \n",
                            "2           0  \n",
                            "3           0  \n",
                            "4           0  \n",
                            "..        ...  \n",
                            "886         1  \n",
                            "887         1  \n",
                            "888         0  \n",
                            "889         1  \n",
                            "890         1  \n",
                            "\n",
                            "[891 rows x 3 columns]"
                        ]
                    },
                    "execution_count": 81,
                    "metadata": {},
                    "output_type": "execute_result"
                }
            ],
            "source": [
                "df = pd.read_csv(\"../data/raw/playstore_reviews.csv\")\n",
                "df"
            ]
        },
        {
            "cell_type": "code",
            "execution_count": 82,
            "metadata": {},
            "outputs": [],
            "source": [
                "#borramos la columna de package_name porque como dice el enunciado ,no nos sirve para nada\n",
                "# ya que las dos columnas que utlizaremos para losresultados son review para el comentario\n",
                "#y polarity para saber si es positivo o negativo\n",
                "df = df.drop('package_name', axis=1)"
            ]
        },
        {
            "cell_type": "code",
            "execution_count": 83,
            "metadata": {},
            "outputs": [
                {
                    "data": {
                        "text/html": [
                            "<div>\n",
                            "<style scoped>\n",
                            "    .dataframe tbody tr th:only-of-type {\n",
                            "        vertical-align: middle;\n",
                            "    }\n",
                            "\n",
                            "    .dataframe tbody tr th {\n",
                            "        vertical-align: top;\n",
                            "    }\n",
                            "\n",
                            "    .dataframe thead th {\n",
                            "        text-align: right;\n",
                            "    }\n",
                            "</style>\n",
                            "<table border=\"1\" class=\"dataframe\">\n",
                            "  <thead>\n",
                            "    <tr style=\"text-align: right;\">\n",
                            "      <th></th>\n",
                            "      <th>review</th>\n",
                            "      <th>polarity</th>\n",
                            "    </tr>\n",
                            "  </thead>\n",
                            "  <tbody>\n",
                            "    <tr>\n",
                            "      <th>0</th>\n",
                            "      <td>privacy at least put some option appear offli...</td>\n",
                            "      <td>0</td>\n",
                            "    </tr>\n",
                            "    <tr>\n",
                            "      <th>1</th>\n",
                            "      <td>messenger issues ever since the last update, ...</td>\n",
                            "      <td>0</td>\n",
                            "    </tr>\n",
                            "    <tr>\n",
                            "      <th>2</th>\n",
                            "      <td>profile any time my wife or anybody has more ...</td>\n",
                            "      <td>0</td>\n",
                            "    </tr>\n",
                            "    <tr>\n",
                            "      <th>3</th>\n",
                            "      <td>the new features suck for those of us who don...</td>\n",
                            "      <td>0</td>\n",
                            "    </tr>\n",
                            "    <tr>\n",
                            "      <th>4</th>\n",
                            "      <td>forced reload on uploading pic on replying co...</td>\n",
                            "      <td>0</td>\n",
                            "    </tr>\n",
                            "    <tr>\n",
                            "      <th>...</th>\n",
                            "      <td>...</td>\n",
                            "      <td>...</td>\n",
                            "    </tr>\n",
                            "    <tr>\n",
                            "      <th>886</th>\n",
                            "      <td>loved it i loooooooooooooovvved it because it...</td>\n",
                            "      <td>1</td>\n",
                            "    </tr>\n",
                            "    <tr>\n",
                            "      <th>887</th>\n",
                            "      <td>all time legendary game the birthday party le...</td>\n",
                            "      <td>1</td>\n",
                            "    </tr>\n",
                            "    <tr>\n",
                            "      <th>888</th>\n",
                            "      <td>ads are way to heavy listen to the bad review...</td>\n",
                            "      <td>0</td>\n",
                            "    </tr>\n",
                            "    <tr>\n",
                            "      <th>889</th>\n",
                            "      <td>fun works perfectly well. ads aren't as annoy...</td>\n",
                            "      <td>1</td>\n",
                            "    </tr>\n",
                            "    <tr>\n",
                            "      <th>890</th>\n",
                            "      <td>they're everywhere i see angry birds everywhe...</td>\n",
                            "      <td>1</td>\n",
                            "    </tr>\n",
                            "  </tbody>\n",
                            "</table>\n",
                            "<p>891 rows × 2 columns</p>\n",
                            "</div>"
                        ],
                        "text/plain": [
                            "                                                review  polarity\n",
                            "0     privacy at least put some option appear offli...         0\n",
                            "1     messenger issues ever since the last update, ...         0\n",
                            "2     profile any time my wife or anybody has more ...         0\n",
                            "3     the new features suck for those of us who don...         0\n",
                            "4     forced reload on uploading pic on replying co...         0\n",
                            "..                                                 ...       ...\n",
                            "886   loved it i loooooooooooooovvved it because it...         1\n",
                            "887   all time legendary game the birthday party le...         1\n",
                            "888   ads are way to heavy listen to the bad review...         0\n",
                            "889   fun works perfectly well. ads aren't as annoy...         1\n",
                            "890   they're everywhere i see angry birds everywhe...         1\n",
                            "\n",
                            "[891 rows x 2 columns]"
                        ]
                    },
                    "execution_count": 83,
                    "metadata": {},
                    "output_type": "execute_result"
                }
            ],
            "source": [
                "df"
            ]
        },
        {
            "cell_type": "code",
            "execution_count": 84,
            "metadata": {},
            "outputs": [],
            "source": [
                "#elimianmos espacios y convertimos a minúsculas el texto \n",
                "df[\"review\"] = df[\"review\"].str.strip().str.lower()"
            ]
        },
        {
            "cell_type": "code",
            "execution_count": 85,
            "metadata": {},
            "outputs": [],
            "source": [
                "#dividimos los datos en conjuntos de entrenamiento y testeo\n",
                "X = df['review']\n",
                "y = df['polarity']\n",
                "X_train, X_test, y_train, y_test = train_test_split(X, y, test_size=0.2, random_state=42)"
            ]
        },
        {
            "cell_type": "code",
            "execution_count": 86,
            "metadata": {},
            "outputs": [
                {
                    "data": {
                        "text/plain": [
                            "(712,)"
                        ]
                    },
                    "execution_count": 86,
                    "metadata": {},
                    "output_type": "execute_result"
                }
            ],
            "source": [
                "X_train.shape"
            ]
        },
        {
            "cell_type": "code",
            "execution_count": 87,
            "metadata": {},
            "outputs": [
                {
                    "data": {
                        "text/plain": [
                            "(179,)"
                        ]
                    },
                    "execution_count": 87,
                    "metadata": {},
                    "output_type": "execute_result"
                }
            ],
            "source": [
                "X_test.shape"
            ]
        },
        {
            "cell_type": "code",
            "execution_count": 88,
            "metadata": {},
            "outputs": [],
            "source": [
                "vectorizer = CountVectorizer(stop_words = \"english\")\n",
                "X_train_vec = vectorizer.fit_transform(X_train).toarray()\n",
                "X_test_vec = vectorizer.transform(X_test).toarray()"
            ]
        },
        {
            "cell_type": "code",
            "execution_count": 89,
            "metadata": {},
            "outputs": [
                {
                    "data": {
                        "text/plain": [
                            "array(['000', '04', '0x', ..., 'žŕ', 'žŕľ', 'ˇŕ'],\n",
                            "      shape=(3310,), dtype=object)"
                        ]
                    },
                    "execution_count": 89,
                    "metadata": {},
                    "output_type": "execute_result"
                }
            ],
            "source": [
                "vectorizer.get_feature_names_out()"
            ]
        },
        {
            "cell_type": "code",
            "execution_count": 90,
            "metadata": {},
            "outputs": [
                {
                    "data": {
                        "text/plain": [
                            "array([[0, 0, 0, ..., 0, 0, 0],\n",
                            "       [0, 0, 0, ..., 0, 0, 0],\n",
                            "       [0, 0, 0, ..., 0, 0, 0],\n",
                            "       ...,\n",
                            "       [0, 0, 0, ..., 0, 0, 0],\n",
                            "       [0, 0, 0, ..., 0, 0, 0],\n",
                            "       [0, 0, 0, ..., 0, 0, 0]], shape=(179, 3310))"
                        ]
                    },
                    "execution_count": 90,
                    "metadata": {},
                    "output_type": "execute_result"
                }
            ],
            "source": [
                "X_test_vec"
            ]
        },
        {
            "cell_type": "code",
            "execution_count": 91,
            "metadata": {},
            "outputs": [
                {
                    "data": {
                        "text/plain": [
                            "709    love/hate has bug and security issues. i tried...\n",
                            "439    whatsapp i use this app now that blackberry me...\n",
                            "840                             usefully verry  nice app\n",
                            "720    fonts why in the heck is this thing analysing ...\n",
                            "39     app doesn't work after latest upgrade the face...\n",
                            "                             ...                        \n",
                            "433    app continuously losses connection, at times i...\n",
                            "773    way below expection. why does it lag so much? ...\n",
                            "25     can't install (error code: -505) have samsung ...\n",
                            "84     sort it out why can i not get my networks post...\n",
                            "10     what the heck?! can't get status updates to be...\n",
                            "Name: review, Length: 179, dtype: object"
                        ]
                    },
                    "execution_count": 91,
                    "metadata": {},
                    "output_type": "execute_result"
                }
            ],
            "source": [
                "X_test"
            ]
        },
        {
            "cell_type": "code",
            "execution_count": 92,
            "metadata": {},
            "outputs": [
                {
                    "name": "stdout",
                    "output_type": "stream",
                    "text": [
                        "Accuracy: 0.8156\n",
                        "              precision    recall  f1-score   support\n",
                        "\n",
                        "           0       0.84      0.90      0.87       126\n",
                        "           1       0.73      0.60      0.66        53\n",
                        "\n",
                        "    accuracy                           0.82       179\n",
                        "   macro avg       0.79      0.75      0.77       179\n",
                        "weighted avg       0.81      0.82      0.81       179\n",
                        "\n"
                    ]
                }
            ],
            "source": [
                "#elegimos el clasificador Multinomial porque lo que se analiza es un comentario\n",
                "# y según sus palabras se identiica si es negativo o positivo\n",
                "clf = MultinomialNB().fit(X_train_vec, y_train)\n",
                "y_pred = clf.predict(X_test_vec)\n",
                "print(f'Accuracy: {accuracy_score(y_test, y_pred):.4f}')\n",
                "print(classification_report(y_test, y_pred))"
            ]
        },
        {
            "cell_type": "code",
            "execution_count": 93,
            "metadata": {},
            "outputs": [
                {
                    "name": "stdout",
                    "output_type": "stream",
                    "text": [
                        "Accuracy: 0.8045\n",
                        "              precision    recall  f1-score   support\n",
                        "\n",
                        "           0       0.85      0.88      0.86       126\n",
                        "           1       0.69      0.62      0.65        53\n",
                        "\n",
                        "    accuracy                           0.80       179\n",
                        "   macro avg       0.77      0.75      0.76       179\n",
                        "weighted avg       0.80      0.80      0.80       179\n",
                        "\n"
                    ]
                }
            ],
            "source": [
                "#ahora lo probamos con GaussianNB\n",
                "model = GaussianNB().fit(X_train_vec,y_train)\n",
                "y_pred_gaus = model.predict(X_test_vec)\n",
                "print(f'Accuracy: {accuracy_score(y_test, y_pred_gaus):.4f}')\n",
                "print(classification_report(y_test, y_pred_gaus))"
            ]
        },
        {
            "cell_type": "code",
            "execution_count": 94,
            "metadata": {},
            "outputs": [
                {
                    "name": "stdout",
                    "output_type": "stream",
                    "text": [
                        "Accuracy: 0.7709\n",
                        "              precision    recall  f1-score   support\n",
                        "\n",
                        "           0       0.79      0.93      0.85       126\n",
                        "           1       0.70      0.40      0.51        53\n",
                        "\n",
                        "    accuracy                           0.77       179\n",
                        "   macro avg       0.74      0.66      0.68       179\n",
                        "weighted avg       0.76      0.77      0.75       179\n",
                        "\n"
                    ]
                }
            ],
            "source": [
                "#ahora lo probamos con Bernoulli\n",
                "clf_bernoulli = BernoulliNB().fit(X_train_vec, y_train)\n",
                "y_pred_bern = clf_bernoulli.predict(X_test_vec)\n",
                "print(f'Accuracy: {accuracy_score(y_test, y_pred_bern):.4f}')\n",
                "print(classification_report(y_test, y_pred_bern))"
            ]
        },
        {
            "cell_type": "markdown",
            "metadata": {},
            "source": [
                "# Nos quedamos con el clasificador MultinomialNB porque tiene el mejor accuracy de los tres"
            ]
        },
        {
            "cell_type": "markdown",
            "metadata": {},
            "source": [
                "# Optimizamos los resultados con un random forest"
            ]
        },
        {
            "cell_type": "code",
            "execution_count": 95,
            "metadata": {},
            "outputs": [
                {
                    "ename": "FileNotFoundError",
                    "evalue": "[Errno 2] No such file or directory: '/home/vscode/.local/lib/python3.11/site-packages/sklearn/utils/_repr_html/estimator.js'",
                    "output_type": "error",
                    "traceback": [
                        "\u001b[31m---------------------------------------------------------------------------\u001b[39m",
                        "\u001b[31mFileNotFoundError\u001b[39m                         Traceback (most recent call last)",
                        "\u001b[36mFile \u001b[39m\u001b[32m~/.local/lib/python3.11/site-packages/IPython/core/formatters.py:1036\u001b[39m, in \u001b[36mMimeBundleFormatter.__call__\u001b[39m\u001b[34m(self, obj, include, exclude)\u001b[39m\n\u001b[32m   1033\u001b[39m     method = get_real_method(obj, \u001b[38;5;28mself\u001b[39m.print_method)\n\u001b[32m   1035\u001b[39m     \u001b[38;5;28;01mif\u001b[39;00m method \u001b[38;5;129;01mis\u001b[39;00m \u001b[38;5;129;01mnot\u001b[39;00m \u001b[38;5;28;01mNone\u001b[39;00m:\n\u001b[32m-> \u001b[39m\u001b[32m1036\u001b[39m         \u001b[38;5;28;01mreturn\u001b[39;00m \u001b[43mmethod\u001b[49m\u001b[43m(\u001b[49m\u001b[43minclude\u001b[49m\u001b[43m=\u001b[49m\u001b[43minclude\u001b[49m\u001b[43m,\u001b[49m\u001b[43m \u001b[49m\u001b[43mexclude\u001b[49m\u001b[43m=\u001b[49m\u001b[43mexclude\u001b[49m\u001b[43m)\u001b[49m\n\u001b[32m   1037\u001b[39m     \u001b[38;5;28;01mreturn\u001b[39;00m \u001b[38;5;28;01mNone\u001b[39;00m\n\u001b[32m   1038\u001b[39m \u001b[38;5;28;01melse\u001b[39;00m:\n",
                        "\u001b[36mFile \u001b[39m\u001b[32m~/.local/lib/python3.11/site-packages/sklearn/utils/_repr_html/base.py:151\u001b[39m, in \u001b[36m_repr_mimebundle_\u001b[39m\u001b[34m(self, **kwargs)\u001b[39m\n",
                        "\u001b[36mFile \u001b[39m\u001b[32m~/.local/lib/python3.11/site-packages/sklearn/utils/_repr_html/estimator.py:489\u001b[39m, in \u001b[36mestimator_html_repr\u001b[39m\u001b[34m(estimator)\u001b[39m\n",
                        "\u001b[31mFileNotFoundError\u001b[39m: [Errno 2] No such file or directory: '/home/vscode/.local/lib/python3.11/site-packages/sklearn/utils/_repr_html/estimator.js'"
                    ]
                },
                {
                    "ename": "FileNotFoundError",
                    "evalue": "[Errno 2] No such file or directory: '/home/vscode/.local/lib/python3.11/site-packages/sklearn/utils/_repr_html/estimator.js'",
                    "output_type": "error",
                    "traceback": [
                        "\u001b[31m---------------------------------------------------------------------------\u001b[39m",
                        "\u001b[31mFileNotFoundError\u001b[39m                         Traceback (most recent call last)",
                        "\u001b[36mFile \u001b[39m\u001b[32m~/.local/lib/python3.11/site-packages/IPython/core/formatters.py:406\u001b[39m, in \u001b[36mBaseFormatter.__call__\u001b[39m\u001b[34m(self, obj)\u001b[39m\n\u001b[32m    404\u001b[39m     method = get_real_method(obj, \u001b[38;5;28mself\u001b[39m.print_method)\n\u001b[32m    405\u001b[39m     \u001b[38;5;28;01mif\u001b[39;00m method \u001b[38;5;129;01mis\u001b[39;00m \u001b[38;5;129;01mnot\u001b[39;00m \u001b[38;5;28;01mNone\u001b[39;00m:\n\u001b[32m--> \u001b[39m\u001b[32m406\u001b[39m         \u001b[38;5;28;01mreturn\u001b[39;00m \u001b[43mmethod\u001b[49m\u001b[43m(\u001b[49m\u001b[43m)\u001b[49m\n\u001b[32m    407\u001b[39m     \u001b[38;5;28;01mreturn\u001b[39;00m \u001b[38;5;28;01mNone\u001b[39;00m\n\u001b[32m    408\u001b[39m \u001b[38;5;28;01melse\u001b[39;00m:\n",
                        "\u001b[36mFile \u001b[39m\u001b[32m~/.local/lib/python3.11/site-packages/sklearn/utils/_repr_html/base.py:145\u001b[39m, in \u001b[36m_repr_html_inner\u001b[39m\u001b[34m(self)\u001b[39m\n",
                        "\u001b[36mFile \u001b[39m\u001b[32m~/.local/lib/python3.11/site-packages/sklearn/utils/_repr_html/estimator.py:489\u001b[39m, in \u001b[36mestimator_html_repr\u001b[39m\u001b[34m(estimator)\u001b[39m\n",
                        "\u001b[31mFileNotFoundError\u001b[39m: [Errno 2] No such file or directory: '/home/vscode/.local/lib/python3.11/site-packages/sklearn/utils/_repr_html/estimator.js'"
                    ]
                },
                {
                    "data": {
                        "text/plain": [
                            "RandomForestClassifier(random_state=42)"
                        ]
                    },
                    "execution_count": 95,
                    "metadata": {},
                    "output_type": "execute_result"
                }
            ],
            "source": [
                "model_random = RandomForestClassifier(random_state = 42)\n",
                "model_random.fit(X_train_vec, y_train)"
            ]
        },
        {
            "cell_type": "code",
            "execution_count": 96,
            "metadata": {},
            "outputs": [
                {
                    "data": {
                        "text/plain": [
                            "array([0, 1, 1, 1, 0, 0, 0, 1, 0, 0, 0, 0, 1, 0, 0, 1, 0, 1, 1, 0, 1, 0,\n",
                            "       1, 1, 0, 1, 0, 1, 0, 0, 0, 0, 1, 0, 0, 1, 0, 1, 1, 0, 0, 0, 1, 0,\n",
                            "       0, 0, 0, 0, 0, 0, 0, 1, 0, 0, 0, 0, 0, 0, 0, 0, 0, 0, 0, 0, 0, 0,\n",
                            "       0, 0, 0, 1, 0, 0, 0, 1, 1, 1, 1, 0, 0, 0, 0, 0, 0, 0, 1, 1, 0, 0,\n",
                            "       1, 0, 1, 0, 1, 0, 1, 0, 0, 0, 0, 0, 0, 1, 0, 0, 1, 0, 0, 0, 0, 0,\n",
                            "       1, 0, 1, 0, 1, 1, 0, 0, 1, 1, 0, 0, 0, 1, 1, 1, 0, 0, 0, 1, 0, 0,\n",
                            "       0, 0, 1, 1, 0, 0, 1, 1, 0, 1, 1, 0, 0, 0, 0, 0, 0, 1, 1, 1, 1, 0,\n",
                            "       0, 1, 1, 0, 0, 0, 1, 0, 1, 0, 0, 1, 0, 0, 1, 0, 0, 0, 1, 1, 0, 1,\n",
                            "       0, 0, 0])"
                        ]
                    },
                    "execution_count": 96,
                    "metadata": {},
                    "output_type": "execute_result"
                }
            ],
            "source": [
                "y_pred_random = model_random.predict(X_test_vec)\n",
                "y_pred_random"
            ]
        },
        {
            "cell_type": "code",
            "execution_count": 97,
            "metadata": {},
            "outputs": [
                {
                    "name": "stdout",
                    "output_type": "stream",
                    "text": [
                        "Accuracy: 0.7988826815642458\n",
                        "              precision    recall  f1-score   support\n",
                        "\n",
                        "           0       0.88      0.83      0.85       126\n",
                        "           1       0.64      0.74      0.68        53\n",
                        "\n",
                        "    accuracy                           0.80       179\n",
                        "   macro avg       0.76      0.78      0.77       179\n",
                        "weighted avg       0.81      0.80      0.80       179\n",
                        "\n"
                    ]
                }
            ],
            "source": [
                "print(f'Accuracy: {accuracy_score(y_test, y_pred_random)}')\n",
                "print(classification_report(y_test, y_pred_random))"
            ]
        },
        {
            "cell_type": "code",
            "execution_count": 98,
            "metadata": {},
            "outputs": [],
            "source": [
                "#vamos a graficar los resultados\n",
                "acc_multi = accuracy_score(y_test, y_pred)\n",
                "acc_gaus = accuracy_score(y_test, y_pred_gaus)\n",
                "acc_bern = accuracy_score(y_test, y_pred_bern)\n",
                "acc_random = accuracy_score(y_test, y_pred_random)"
            ]
        },
        {
            "cell_type": "code",
            "execution_count": 99,
            "metadata": {},
            "outputs": [
                {
                    "data": {
                        "image/png": "[encoded data removed]",
                        "text/plain": [
                            "<Figure size 800x500 with 1 Axes>"
                        ]
                    },
                    "metadata": {},
                    "output_type": "display_data"
                }
            ],
            "source": [
                "model_names = ['BernoulliNB', 'RandomForest', 'GaussianNB', 'MultinomialNB']\n",
                "accuracies = [acc_bern, acc_random, acc_gaus, acc_multi]\n",
                "plt.figure(figsize=(8, 5))\n",
                "plt.bar(model_names, accuracies, color=['blue', 'yellow', 'green', 'red'])\n",
                "plt.title('Accuracy de los modelos')\n",
                "plt.ylabel('Accuracy')\n",
                "for i, acc in enumerate(accuracies):\n",
                "    plt.text(i, acc + 0.01, f'{acc:.4f}')\n",
                "plt.show()"
            ]
        },
        {
            "cell_type": "markdown",
            "metadata": {},
            "source": [
                "Tras el estudio de los 4 modelos, elegimos Multinomial porque el accuracy es el mejor"
            ]
        },
        {
            "cell_type": "code",
            "execution_count": 100,
            "metadata": {},
            "outputs": [
                {
                    "ename": "FileNotFoundError",
                    "evalue": "[Errno 2] No such file or directory: '/home/vscode/.local/lib/python3.11/site-packages/sklearn/utils/_repr_html/estimator.js'",
                    "output_type": "error",
                    "traceback": [
                        "\u001b[31m---------------------------------------------------------------------------\u001b[39m",
                        "\u001b[31mFileNotFoundError\u001b[39m                         Traceback (most recent call last)",
                        "\u001b[36mFile \u001b[39m\u001b[32m~/.local/lib/python3.11/site-packages/IPython/core/formatters.py:1036\u001b[39m, in \u001b[36mMimeBundleFormatter.__call__\u001b[39m\u001b[34m(self, obj, include, exclude)\u001b[39m\n\u001b[32m   1033\u001b[39m     method = get_real_method(obj, \u001b[38;5;28mself\u001b[39m.print_method)\n\u001b[32m   1035\u001b[39m     \u001b[38;5;28;01mif\u001b[39;00m method \u001b[38;5;129;01mis\u001b[39;00m \u001b[38;5;129;01mnot\u001b[39;00m \u001b[38;5;28;01mNone\u001b[39;00m:\n\u001b[32m-> \u001b[39m\u001b[32m1036\u001b[39m         \u001b[38;5;28;01mreturn\u001b[39;00m \u001b[43mmethod\u001b[49m\u001b[43m(\u001b[49m\u001b[43minclude\u001b[49m\u001b[43m=\u001b[49m\u001b[43minclude\u001b[49m\u001b[43m,\u001b[49m\u001b[43m \u001b[49m\u001b[43mexclude\u001b[49m\u001b[43m=\u001b[49m\u001b[43mexclude\u001b[49m\u001b[43m)\u001b[49m\n\u001b[32m   1037\u001b[39m     \u001b[38;5;28;01mreturn\u001b[39;00m \u001b[38;5;28;01mNone\u001b[39;00m\n\u001b[32m   1038\u001b[39m \u001b[38;5;28;01melse\u001b[39;00m:\n",
                        "\u001b[36mFile \u001b[39m\u001b[32m~/.local/lib/python3.11/site-packages/sklearn/utils/_repr_html/base.py:151\u001b[39m, in \u001b[36m_repr_mimebundle_\u001b[39m\u001b[34m(self, **kwargs)\u001b[39m\n",
                        "\u001b[36mFile \u001b[39m\u001b[32m~/.local/lib/python3.11/site-packages/sklearn/utils/_repr_html/estimator.py:489\u001b[39m, in \u001b[36mestimator_html_repr\u001b[39m\u001b[34m(estimator)\u001b[39m\n",
                        "\u001b[31mFileNotFoundError\u001b[39m: [Errno 2] No such file or directory: '/home/vscode/.local/lib/python3.11/site-packages/sklearn/utils/_repr_html/estimator.js'"
                    ]
                },
                {
                    "ename": "FileNotFoundError",
                    "evalue": "[Errno 2] No such file or directory: '/home/vscode/.local/lib/python3.11/site-packages/sklearn/utils/_repr_html/estimator.js'",
                    "output_type": "error",
                    "traceback": [
                        "\u001b[31m---------------------------------------------------------------------------\u001b[39m",
                        "\u001b[31mFileNotFoundError\u001b[39m                         Traceback (most recent call last)",
                        "\u001b[36mFile \u001b[39m\u001b[32m~/.local/lib/python3.11/site-packages/IPython/core/formatters.py:406\u001b[39m, in \u001b[36mBaseFormatter.__call__\u001b[39m\u001b[34m(self, obj)\u001b[39m\n\u001b[32m    404\u001b[39m     method = get_real_method(obj, \u001b[38;5;28mself\u001b[39m.print_method)\n\u001b[32m    405\u001b[39m     \u001b[38;5;28;01mif\u001b[39;00m method \u001b[38;5;129;01mis\u001b[39;00m \u001b[38;5;129;01mnot\u001b[39;00m \u001b[38;5;28;01mNone\u001b[39;00m:\n\u001b[32m--> \u001b[39m\u001b[32m406\u001b[39m         \u001b[38;5;28;01mreturn\u001b[39;00m \u001b[43mmethod\u001b[49m\u001b[43m(\u001b[49m\u001b[43m)\u001b[49m\n\u001b[32m    407\u001b[39m     \u001b[38;5;28;01mreturn\u001b[39;00m \u001b[38;5;28;01mNone\u001b[39;00m\n\u001b[32m    408\u001b[39m \u001b[38;5;28;01melse\u001b[39;00m:\n",
                        "\u001b[36mFile \u001b[39m\u001b[32m~/.local/lib/python3.11/site-packages/sklearn/utils/_repr_html/base.py:145\u001b[39m, in \u001b[36m_repr_html_inner\u001b[39m\u001b[34m(self)\u001b[39m\n",
                        "\u001b[36mFile \u001b[39m\u001b[32m~/.local/lib/python3.11/site-packages/sklearn/utils/_repr_html/estimator.py:489\u001b[39m, in \u001b[36mestimator_html_repr\u001b[39m\u001b[34m(estimator)\u001b[39m\n",
                        "\u001b[31mFileNotFoundError\u001b[39m: [Errno 2] No such file or directory: '/home/vscode/.local/lib/python3.11/site-packages/sklearn/utils/_repr_html/estimator.js'"
                    ]
                },
                {
                    "data": {
                        "text/plain": [
                            "GridSearchCV(cv=5, estimator=MultinomialNB(),\n",
                            "             param_grid={'alpha': [0.1, 0.5, 1.0, 2.0, 5.0]},\n",
                            "             scoring='accuracy')"
                        ]
                    },
                    "execution_count": 100,
                    "metadata": {},
                    "output_type": "execute_result"
                }
            ],
            "source": [
                "#mejoramos el modelo MultinomialNB probando diferentes valores de alpha\n",
                "param_grid = {'alpha': [0.1, 0.5, 1.0, 2.0, 5.0]}\n",
                "grid = GridSearchCV(MultinomialNB(), param_grid, cv=5, scoring='accuracy')\n",
                "grid.fit(X_train_vec, y_train)"
            ]
        },
        {
            "cell_type": "code",
            "execution_count": 101,
            "metadata": {},
            "outputs": [],
            "source": [
                "clf_grid = grid.best_estimator_\n",
                "y_pred_grid = clf_grid.predict(X_test_vec)"
            ]
        },
        {
            "cell_type": "code",
            "execution_count": 102,
            "metadata": {},
            "outputs": [
                {
                    "name": "stdout",
                    "output_type": "stream",
                    "text": [
                        "MultinomialNB(alpha=0.5)\n"
                    ]
                }
            ],
            "source": [
                "print(grid.best_estimator_)"
            ]
        },
        {
            "cell_type": "code",
            "execution_count": 103,
            "metadata": {},
            "outputs": [
                {
                    "name": "stdout",
                    "output_type": "stream",
                    "text": [
                        "Accuracy: 0.8268\n",
                        "              precision    recall  f1-score   support\n",
                        "\n",
                        "           0       0.86      0.90      0.88       126\n",
                        "           1       0.73      0.66      0.69        53\n",
                        "\n",
                        "    accuracy                           0.83       179\n",
                        "   macro avg       0.80      0.78      0.79       179\n",
                        "weighted avg       0.82      0.83      0.82       179\n",
                        "\n"
                    ]
                }
            ],
            "source": [
                "print(f'Accuracy: {accuracy_score(y_test, y_pred_grid):.4f}')\n",
                "print(classification_report(y_test, y_pred_grid))"
            ]
        },
        {
            "cell_type": "code",
            "execution_count": 104,
            "metadata": {},
            "outputs": [
                {
                    "name": "stdout",
                    "output_type": "stream",
                    "text": [
                        "Accuracy MultinomialNB alpha 0.5: 0.8268\n",
                        "Accuracy Multinomial: 0.8156\n"
                    ]
                }
            ],
            "source": [
                "print(f'Accuracy MultinomialNB alpha 0.5: {accuracy_score(y_test, y_pred_grid):.4f}')\n",
                "print(f'Accuracy Multinomial: {accuracy_score(y_test, y_pred):.4f}')"
            ]
        },
        {
            "cell_type": "markdown",
            "metadata": {},
            "source": [
                "El modelo Multinomial NB optimizado es el que mejor resultados da:\n",
                "Con un accuracy de 82.68%, frente al 81.56% del MultinomialNB "
            ]
        },
        {
            "cell_type": "code",
            "execution_count": null,
            "metadata": {},
            "outputs": [
                {
                    "ename": "FileNotFoundError",
                    "evalue": "[Errno 2] No such file or directory: '/home/vscode/.local/lib/python3.11/site-packages/sklearn/utils/_repr_html/estimator.js'",
                    "output_type": "error",
                    "traceback": [
                        "\u001b[31m---------------------------------------------------------------------------\u001b[39m",
                        "\u001b[31mFileNotFoundError\u001b[39m                         Traceback (most recent call last)",
                        "\u001b[36mFile \u001b[39m\u001b[32m~/.local/lib/python3.11/site-packages/IPython/core/formatters.py:1036\u001b[39m, in \u001b[36mMimeBundleFormatter.__call__\u001b[39m\u001b[34m(self, obj, include, exclude)\u001b[39m\n\u001b[32m   1033\u001b[39m     method = get_real_method(obj, \u001b[38;5;28mself\u001b[39m.print_method)\n\u001b[32m   1035\u001b[39m     \u001b[38;5;28;01mif\u001b[39;00m method \u001b[38;5;129;01mis\u001b[39;00m \u001b[38;5;129;01mnot\u001b[39;00m \u001b[38;5;28;01mNone\u001b[39;00m:\n\u001b[32m-> \u001b[39m\u001b[32m1036\u001b[39m         \u001b[38;5;28;01mreturn\u001b[39;00m \u001b[43mmethod\u001b[49m\u001b[43m(\u001b[49m\u001b[43minclude\u001b[49m\u001b[43m=\u001b[49m\u001b[43minclude\u001b[49m\u001b[43m,\u001b[49m\u001b[43m \u001b[49m\u001b[43mexclude\u001b[49m\u001b[43m=\u001b[49m\u001b[43mexclude\u001b[49m\u001b[43m)\u001b[49m\n\u001b[32m   1037\u001b[39m     \u001b[38;5;28;01mreturn\u001b[39;00m \u001b[38;5;28;01mNone\u001b[39;00m\n\u001b[32m   1038\u001b[39m \u001b[38;5;28;01melse\u001b[39;00m:\n",
                        "\u001b[36mFile \u001b[39m\u001b[32m~/.local/lib/python3.11/site-packages/sklearn/utils/_repr_html/base.py:151\u001b[39m, in \u001b[36m_repr_mimebundle_\u001b[39m\u001b[34m(self, **kwargs)\u001b[39m\n",
                        "\u001b[36mFile \u001b[39m\u001b[32m~/.local/lib/python3.11/site-packages/sklearn/utils/_repr_html/estimator.py:489\u001b[39m, in \u001b[36mestimator_html_repr\u001b[39m\u001b[34m(estimator)\u001b[39m\n",
                        "\u001b[31mFileNotFoundError\u001b[39m: [Errno 2] No such file or directory: '/home/vscode/.local/lib/python3.11/site-packages/sklearn/utils/_repr_html/estimator.js'"
                    ]
                },
                {
                    "ename": "FileNotFoundError",
                    "evalue": "[Errno 2] No such file or directory: '/home/vscode/.local/lib/python3.11/site-packages/sklearn/utils/_repr_html/estimator.js'",
                    "output_type": "error",
                    "traceback": [
                        "\u001b[31m---------------------------------------------------------------------------\u001b[39m",
                        "\u001b[31mFileNotFoundError\u001b[39m                         Traceback (most recent call last)",
                        "\u001b[36mFile \u001b[39m\u001b[32m~/.local/lib/python3.11/site-packages/IPython/core/formatters.py:406\u001b[39m, in \u001b[36mBaseFormatter.__call__\u001b[39m\u001b[34m(self, obj)\u001b[39m\n\u001b[32m    404\u001b[39m     method = get_real_method(obj, \u001b[38;5;28mself\u001b[39m.print_method)\n\u001b[32m    405\u001b[39m     \u001b[38;5;28;01mif\u001b[39;00m method \u001b[38;5;129;01mis\u001b[39;00m \u001b[38;5;129;01mnot\u001b[39;00m \u001b[38;5;28;01mNone\u001b[39;00m:\n\u001b[32m--> \u001b[39m\u001b[32m406\u001b[39m         \u001b[38;5;28;01mreturn\u001b[39;00m \u001b[43mmethod\u001b[49m\u001b[43m(\u001b[49m\u001b[43m)\u001b[49m\n\u001b[32m    407\u001b[39m     \u001b[38;5;28;01mreturn\u001b[39;00m \u001b[38;5;28;01mNone\u001b[39;00m\n\u001b[32m    408\u001b[39m \u001b[38;5;28;01melse\u001b[39;00m:\n",
                        "\u001b[36mFile \u001b[39m\u001b[32m~/.local/lib/python3.11/site-packages/sklearn/utils/_repr_html/base.py:145\u001b[39m, in \u001b[36m_repr_html_inner\u001b[39m\u001b[34m(self)\u001b[39m\n",
                        "\u001b[36mFile \u001b[39m\u001b[32m~/.local/lib/python3.11/site-packages/sklearn/utils/_repr_html/estimator.py:489\u001b[39m, in \u001b[36mestimator_html_repr\u001b[39m\u001b[34m(estimator)\u001b[39m\n",
                        "\u001b[31mFileNotFoundError\u001b[39m: [Errno 2] No such file or directory: '/home/vscode/.local/lib/python3.11/site-packages/sklearn/utils/_repr_html/estimator.js'"
                    ]
                },
                {
                    "data": {
                        "text/plain": [
                            "XGBClassifier(base_score=None, booster=None, callbacks=None,\n",
                            "              colsample_bylevel=None, colsample_bynode=None,\n",
                            "              colsample_bytree=None, device=None, early_stopping_rounds=None,\n",
                            "              enable_categorical=False, eval_metric=None, feature_types=None,\n",
                            "              feature_weights=None, gamma=None, grow_policy=None,\n",
                            "              importance_type=None, interaction_constraints=None,\n",
                            "              learning_rate=None, max_bin=None, max_cat_threshold=None,\n",
                            "              max_cat_to_onehot=None, max_delta_step=None, max_depth=None,\n",
                            "              max_leaves=None, min_child_weight=None, missing=nan,\n",
                            "              monotone_constraints=None, multi_strategy=None, n_estimators=None,\n",
                            "              n_jobs=None, num_parallel_tree=None, ...)"
                        ]
                    },
                    "execution_count": 106,
                    "metadata": {},
                    "output_type": "execute_result"
                }
            ],
            "source": [
                "# Vamos a utilizar Boosting para probar otros modelos\n",
                "model_xgb = XGBClassifier(random_state =42)\n",
                "model_xgb.fit(X_train_vec, y_train)"
            ]
        },
        {
            "cell_type": "code",
            "execution_count": 108,
            "metadata": {},
            "outputs": [
                {
                    "data": {
                        "text/plain": [
                            "array([0, 0, 0, 0, 0, 0, 0, 1, 0, 0, 1, 0, 1, 0, 0, 1, 1, 0, 1, 0, 1, 0,\n",
                            "       1, 0, 0, 1, 0, 1, 0, 0, 0, 0, 0, 0, 0, 1, 0, 1, 1, 0, 0, 0, 1, 0,\n",
                            "       0, 0, 0, 0, 0, 1, 0, 1, 0, 0, 0, 1, 0, 0, 0, 0, 0, 0, 0, 0, 0, 0,\n",
                            "       0, 0, 0, 1, 0, 0, 0, 1, 1, 0, 1, 0, 0, 0, 0, 0, 0, 0, 0, 1, 0, 0,\n",
                            "       1, 0, 0, 0, 0, 0, 0, 0, 0, 0, 0, 0, 0, 0, 0, 0, 1, 0, 0, 0, 0, 0,\n",
                            "       1, 0, 1, 0, 1, 1, 0, 0, 1, 0, 0, 0, 0, 0, 1, 1, 1, 0, 0, 1, 0, 0,\n",
                            "       0, 1, 1, 1, 0, 0, 1, 1, 1, 0, 1, 0, 0, 1, 0, 0, 0, 1, 1, 1, 1, 0,\n",
                            "       0, 1, 1, 0, 0, 0, 1, 1, 1, 0, 0, 1, 0, 0, 1, 0, 0, 0, 0, 1, 0, 0,\n",
                            "       0, 0, 0])"
                        ]
                    },
                    "execution_count": 108,
                    "metadata": {},
                    "output_type": "execute_result"
                }
            ],
            "source": [
                "y_pred_xgb =model_xgb.predict(X_test_vec)\n",
                "y_pred_xgb"
            ]
        },
        {
            "cell_type": "code",
            "execution_count": 109,
            "metadata": {},
            "outputs": [
                {
                    "name": "stdout",
                    "output_type": "stream",
                    "text": [
                        "Accuracy: 0.8100558659217877\n",
                        "              precision    recall  f1-score   support\n",
                        "\n",
                        "           0       0.87      0.87      0.87       126\n",
                        "           1       0.68      0.68      0.68        53\n",
                        "\n",
                        "    accuracy                           0.81       179\n",
                        "   macro avg       0.77      0.77      0.77       179\n",
                        "weighted avg       0.81      0.81      0.81       179\n",
                        "\n"
                    ]
                }
            ],
            "source": [
                "print(f'Accuracy: {accuracy_score(y_test, y_pred_xgb)}')\n",
                "print(classification_report(y_test, y_pred_xgb))"
            ]
        },
        {
            "cell_type": "code",
            "execution_count": 112,
            "metadata": {},
            "outputs": [
                {
                    "name": "stdout",
                    "output_type": "stream",
                    "text": [
                        "Accuracy MultinomialNB alpha 0.5: 0.8268\n",
                        "Accuracy XGBoost: 0.8101\n"
                    ]
                }
            ],
            "source": [
                "print(f'Accuracy MultinomialNB alpha 0.5: {accuracy_score(y_test, y_pred_grid):.4f}')\n",
                "print(f'Accuracy XGBoost: {accuracy_score(y_test, y_pred_xgb):.4f}')"
            ]
        },
        {
            "cell_type": "markdown",
            "metadata": {},
            "source": [
                "El accuracy de XGBoost no supera al de MultinomialNB alpha 0.5"
            ]
        },
        {
            "cell_type": "markdown",
            "metadata": {},
            "source": [
                "# El modelo Multinomial NB optimizado es el que mejor resultados da:\n",
                "# Con un accuracy de 82.68%, frente al 81.56% del MultinomialNB y un 81.01% del XGBoost"
            ]
        }
    ],
    "metadata": {
        "kernelspec": {
            "display_name": "Python 3",
            "language": "python",
            "name": "python3"
        },
        "language_info": {
            "codemirror_mode": {
                "name": "ipython",
                "version": 3
            },
            "file_extension": ".py",
            "mimetype": "text/x-python",
            "name": "python",
            "nbconvert_exporter": "python",
            "pygments_lexer": "ipython3",
            "version": "3.11.4"
        },
        "orig_nbformat": 4
    },
    "nbformat": 4,
    "nbformat_minor": 2
}
